{
 "cells": [
  {
   "cell_type": "markdown",
   "metadata": {
    "collapsed": true
   },
   "source": [
    "# Dataquest Curriculum Project 2: Exploring Gun Deaths in the US\n",
    "\n",
    "This [dataset](https://github.com/fivethirtyeight/guns-data) comes from [FiveThirtyEight](https://github.com/fivethirtyeight) and contains information on each gun death that occurred in the United States from 2012 to 2014. A row represents a single death, and each column represents demographic or other information about the victim:\n",
    "\n",
    "- ` ` -- row number\n",
    "- `year` -- the year in which the fatality occurred.\n",
    "- `month` -- the month in which the fatality occurred.\n",
    "- `intent` -- the intent of the perpetrator of the crime. This can be `Suicide`, `Accidental`, `NA`, `Homicide`, or `Undetermined`.\n",
    "- `police` -- whether a police officer was involved with the shooting. Either `0` (false) or `1` (true).\n",
    "- `sex` -- the gender of the victim. Either `M` or `F`.\n",
    "- `age` -- the age of the victim.\n",
    "- `race` -- the race of the victim. Either `Asian/Pacific Islander`, `Native American/Native Alaskan`, `Black`, `Hispanic`, or `White`.\n",
    "- `hispanic` -- a code indicating the Hispanic origin of the victim.\n",
    "- `place` -- where the shooting occurred.\n",
    "- `education` -- educational status of the victim. Can be one of the following:\n",
    "    - `1` -- Less than High School\n",
    "    - `2` -- Graduated from High School or equivalent\n",
    "    - `3` -- Some College\n",
    "    - `4` -- At least graduated from College\n",
    "    - `5` -- Not available"
   ]
  },
  {
   "cell_type": "code",
   "execution_count": 60,
   "metadata": {},
   "outputs": [
    {
     "name": "stdout",
     "output_type": "stream",
     "text": [
      "['', 'year', 'month', 'intent', 'police', 'sex', 'age', 'race', 'hispanic', 'place', 'education']\n",
      "['1', '2012', '01', 'Suicide', '0', 'M', '34', 'Asian/Pacific Islander', '100', 'Home', '4']\n",
      "['2', '2012', '01', 'Suicide', '0', 'F', '21', 'White', '100', 'Street', '3']\n",
      "['3', '2012', '01', 'Suicide', '0', 'M', '60', 'White', '100', 'Other specified', '4']\n",
      "['4', '2012', '02', 'Suicide', '0', 'M', '64', 'White', '100', 'Home', '4']\n"
     ]
    }
   ],
   "source": [
    "# open the csv file\n",
    "import csv\n",
    "file = open(\"guns.csv\", 'r')\n",
    "data = list(csv.reader(file))\n",
    "\n",
    "for row in data[:5]:\n",
    "    print(row)"
   ]
  },
  {
   "cell_type": "code",
   "execution_count": 61,
   "metadata": {},
   "outputs": [
    {
     "name": "stdout",
     "output_type": "stream",
     "text": [
      "['1', '2012', '01', 'Suicide', '0', 'M', '34', 'Asian/Pacific Islander', '100', 'Home', '4']\n",
      "['2', '2012', '01', 'Suicide', '0', 'F', '21', 'White', '100', 'Street', '3']\n",
      "['3', '2012', '01', 'Suicide', '0', 'M', '60', 'White', '100', 'Other specified', '4']\n",
      "['4', '2012', '02', 'Suicide', '0', 'M', '64', 'White', '100', 'Home', '4']\n",
      "['5', '2012', '02', 'Suicide', '0', 'M', '31', 'White', '100', 'Other specified', '2']\n"
     ]
    }
   ],
   "source": [
    "# extract the header\n",
    "header = data[0]\n",
    "data = data[1:]\n",
    "\n",
    "for row in data[:5]:\n",
    "    print(row)"
   ]
  },
  {
   "cell_type": "markdown",
   "metadata": {},
   "source": [
    "# Count total deaths for each year"
   ]
  },
  {
   "cell_type": "code",
   "execution_count": 62,
   "metadata": {},
   "outputs": [
    {
     "data": {
      "text/plain": [
       "{'2012': 33563, '2013': 33636, '2014': 33599}"
      ]
     },
     "execution_count": 62,
     "metadata": {},
     "output_type": "execute_result"
    }
   ],
   "source": [
    "# extract the year column\n",
    "years = [row[1] for row in data]\n",
    "\n",
    "# keep counts\n",
    "year_counts = {}\n",
    "for element in years:\n",
    "    if element in year_counts:\n",
    "        year_counts[element] += 1\n",
    "    else:\n",
    "        year_counts[element] = 1\n",
    "        \n",
    "year_counts"
   ]
  },
  {
   "cell_type": "markdown",
   "metadata": {},
   "source": [
    "*Seem to be consistent, year-to-year.*"
   ]
  },
  {
   "cell_type": "markdown",
   "metadata": {},
   "source": [
    "# Examine total deaths by month, year"
   ]
  },
  {
   "cell_type": "code",
   "execution_count": 63,
   "metadata": {},
   "outputs": [
    {
     "data": {
      "text/plain": [
       "[datetime.datetime(2012, 1, 1, 0, 0),\n",
       " datetime.datetime(2012, 1, 1, 0, 0),\n",
       " datetime.datetime(2012, 1, 1, 0, 0),\n",
       " datetime.datetime(2012, 2, 1, 0, 0),\n",
       " datetime.datetime(2012, 2, 1, 0, 0)]"
      ]
     },
     "execution_count": 63,
     "metadata": {},
     "output_type": "execute_result"
    }
   ],
   "source": [
    "import datetime\n",
    "# extract the year & month as a datetime object, \n",
    "# set day as fixed because we don't have that data\n",
    "dates = [datetime.datetime(year=int(row[1]), month=int(row[2]), day=1) \n",
    "         for row in data]\n",
    "\n",
    "dates[:5]"
   ]
  },
  {
   "cell_type": "code",
   "execution_count": 64,
   "metadata": {},
   "outputs": [
    {
     "data": {
      "text/plain": [
       "{datetime.datetime(2012, 1, 1, 0, 0): 2758,\n",
       " datetime.datetime(2012, 2, 1, 0, 0): 2357,\n",
       " datetime.datetime(2012, 3, 1, 0, 0): 2743,\n",
       " datetime.datetime(2012, 4, 1, 0, 0): 2795,\n",
       " datetime.datetime(2012, 5, 1, 0, 0): 2999,\n",
       " datetime.datetime(2012, 6, 1, 0, 0): 2826,\n",
       " datetime.datetime(2012, 7, 1, 0, 0): 3026,\n",
       " datetime.datetime(2012, 8, 1, 0, 0): 2954,\n",
       " datetime.datetime(2012, 9, 1, 0, 0): 2852,\n",
       " datetime.datetime(2012, 10, 1, 0, 0): 2733,\n",
       " datetime.datetime(2012, 11, 1, 0, 0): 2729,\n",
       " datetime.datetime(2012, 12, 1, 0, 0): 2791,\n",
       " datetime.datetime(2013, 1, 1, 0, 0): 2864,\n",
       " datetime.datetime(2013, 2, 1, 0, 0): 2375,\n",
       " datetime.datetime(2013, 3, 1, 0, 0): 2862,\n",
       " datetime.datetime(2013, 4, 1, 0, 0): 2798,\n",
       " datetime.datetime(2013, 5, 1, 0, 0): 2806,\n",
       " datetime.datetime(2013, 6, 1, 0, 0): 2920,\n",
       " datetime.datetime(2013, 7, 1, 0, 0): 3079,\n",
       " datetime.datetime(2013, 8, 1, 0, 0): 2859,\n",
       " datetime.datetime(2013, 9, 1, 0, 0): 2742,\n",
       " datetime.datetime(2013, 10, 1, 0, 0): 2808,\n",
       " datetime.datetime(2013, 11, 1, 0, 0): 2758,\n",
       " datetime.datetime(2013, 12, 1, 0, 0): 2765,\n",
       " datetime.datetime(2014, 1, 1, 0, 0): 2651,\n",
       " datetime.datetime(2014, 2, 1, 0, 0): 2361,\n",
       " datetime.datetime(2014, 3, 1, 0, 0): 2684,\n",
       " datetime.datetime(2014, 4, 1, 0, 0): 2862,\n",
       " datetime.datetime(2014, 5, 1, 0, 0): 2864,\n",
       " datetime.datetime(2014, 6, 1, 0, 0): 2931,\n",
       " datetime.datetime(2014, 7, 1, 0, 0): 2884,\n",
       " datetime.datetime(2014, 8, 1, 0, 0): 2970,\n",
       " datetime.datetime(2014, 9, 1, 0, 0): 2914,\n",
       " datetime.datetime(2014, 10, 1, 0, 0): 2865,\n",
       " datetime.datetime(2014, 11, 1, 0, 0): 2756,\n",
       " datetime.datetime(2014, 12, 1, 0, 0): 2857}"
      ]
     },
     "execution_count": 64,
     "metadata": {},
     "output_type": "execute_result"
    }
   ],
   "source": [
    "date_counts = {}\n",
    "for element in dates:\n",
    "    if element in date_counts:\n",
    "        date_counts[element] += 1\n",
    "    else:\n",
    "        date_counts[element] = 1\n",
    "\n",
    "date_counts"
   ]
  },
  {
   "cell_type": "markdown",
   "metadata": {},
   "source": [
    "*Seem to be fairly consistent, month-to-month, but a graph might better reveal certain trends.*"
   ]
  },
  {
   "cell_type": "markdown",
   "metadata": {},
   "source": [
    "# Examine total deaths by sex"
   ]
  },
  {
   "cell_type": "code",
   "execution_count": 101,
   "metadata": {},
   "outputs": [
    {
     "data": {
      "text/plain": [
       "{'F': 14449, 'M': 86349}"
      ]
     },
     "execution_count": 101,
     "metadata": {},
     "output_type": "execute_result"
    }
   ],
   "source": [
    "# extract the sex column\n",
    "sexes = [row[5] for row in data]\n",
    "\n",
    "sex_counts = {}\n",
    "for element in sexes:\n",
    "    if element in sex_counts:\n",
    "        sex_counts[element] += 1\n",
    "    else:\n",
    "        sex_counts[element] = 1\n",
    "\n",
    "sex_counts"
   ]
  },
  {
   "cell_type": "markdown",
   "metadata": {},
   "source": [
    "*Male deaths far outnumber female deaths*"
   ]
  },
  {
   "cell_type": "markdown",
   "metadata": {},
   "source": [
    "# Examine total deaths by intent"
   ]
  },
  {
   "cell_type": "code",
   "execution_count": 104,
   "metadata": {},
   "outputs": [
    {
     "data": {
      "text/plain": [
       "['Suicide', 'Suicide', 'Suicide', 'Suicide', 'Suicide']"
      ]
     },
     "execution_count": 104,
     "metadata": {},
     "output_type": "execute_result"
    }
   ],
   "source": [
    "# extract the intent column\n",
    "intents = [row[3] for row in data]\n",
    "\n",
    "intents[:5]"
   ]
  },
  {
   "cell_type": "code",
   "execution_count": 105,
   "metadata": {},
   "outputs": [
    {
     "data": {
      "text/plain": [
       "{'Accidental': 1639,\n",
       " 'Homicide': 35176,\n",
       " 'NA': 1,\n",
       " 'Suicide': 63175,\n",
       " 'Undetermined': 807}"
      ]
     },
     "execution_count": 105,
     "metadata": {},
     "output_type": "execute_result"
    }
   ],
   "source": [
    "intent_counts = {}\n",
    "for intent in intents:\n",
    "    if intent in intent_counts:\n",
    "        intent_counts[intent] += 1\n",
    "    else:\n",
    "        intent_counts[intent] = 1\n",
    "        \n",
    "intent_counts"
   ]
  },
  {
   "cell_type": "markdown",
   "metadata": {},
   "source": [
    "*The majority of gun deaths are caused by suicide.*"
   ]
  },
  {
   "cell_type": "markdown",
   "metadata": {},
   "source": [
    "# Examine total deaths by location"
   ]
  },
  {
   "cell_type": "code",
   "execution_count": 102,
   "metadata": {},
   "outputs": [
    {
     "data": {
      "text/plain": [
       "{'Farm': 470,\n",
       " 'Home': 60486,\n",
       " 'Industrial/construction': 248,\n",
       " 'NA': 1384,\n",
       " 'Other specified': 13751,\n",
       " 'Other unspecified': 8867,\n",
       " 'Residential institution': 203,\n",
       " 'School/instiution': 671,\n",
       " 'Sports': 128,\n",
       " 'Street': 11151,\n",
       " 'Trade/service area': 3439}"
      ]
     },
     "execution_count": 102,
     "metadata": {},
     "output_type": "execute_result"
    }
   ],
   "source": [
    "# extract the locations column\n",
    "locations = [row[9] for row in data]\n",
    "\n",
    "location_counts = {}\n",
    "for location in locations:\n",
    "    if location in location_counts:\n",
    "        location_counts[location] += 1\n",
    "    else:\n",
    "        location_counts[location] = 1\n",
    "        \n",
    "location_counts"
   ]
  },
  {
   "cell_type": "markdown",
   "metadata": {},
   "source": [
    "*The overwhelming majority of gun deaths occur at home. This is likely related to the fact that the majority of gun deaths are caused by Suicide.*"
   ]
  },
  {
   "cell_type": "markdown",
   "metadata": {},
   "source": [
    "# Examine total deaths by education"
   ]
  },
  {
   "cell_type": "code",
   "execution_count": 103,
   "metadata": {},
   "outputs": [
    {
     "data": {
      "text/plain": [
       "{'1': 21823, '2': 42927, '3': 21680, '4': 12946, '5': 1369, 'NA': 53}"
      ]
     },
     "execution_count": 103,
     "metadata": {},
     "output_type": "execute_result"
    }
   ],
   "source": [
    "# extract the education column\n",
    "educations = [row[10] for row in data]\n",
    "\n",
    "education_counts = {}\n",
    "for education in educations:\n",
    "    if education in education_counts:\n",
    "        education_counts[education] += 1\n",
    "    else:\n",
    "        education_counts[education] = 1\n",
    "        \n",
    "education_counts"
   ]
  },
  {
   "cell_type": "markdown",
   "metadata": {},
   "source": [
    "*College graduates (category 5) experienced the fewest gun deaths (of the categories in which education level was definitive), and high school graduates (category 2) experienced the most.* \n",
    "\n",
    "*Regarding college graduates (category 5) - Additional data/information from other areas would be needed to understand why this is the lowest group, though one might speculate this relates to many causes, a major one being socioeconomic status.*\n",
    "\n",
    "*Regarding high school graduates (category 2) - A quick [Google search](https://www.census.gov/newsroom/press-releases/2017/educational-attainment-2017.html) shows that over 80% of Americans over age 25 have a high school diploma (and it's met this threshold this from 2000-2017), so more gun death victims being high school-educated than gun death victims who are not high school-educated (category 1) may be partly due to the fact that more Americans happen to be high school educated than not.*"
   ]
  },
  {
   "cell_type": "markdown",
   "metadata": {},
   "source": [
    "# Examine total deaths by race"
   ]
  },
  {
   "cell_type": "code",
   "execution_count": 66,
   "metadata": {},
   "outputs": [
    {
     "data": {
      "text/plain": [
       "{'Asian/Pacific Islander': 1326,\n",
       " 'Black': 23296,\n",
       " 'Hispanic': 9022,\n",
       " 'Native American/Native Alaskan': 917,\n",
       " 'White': 66237}"
      ]
     },
     "execution_count": 66,
     "metadata": {},
     "output_type": "execute_result"
    }
   ],
   "source": [
    "# extract the race column\n",
    "races = [row[7] for row in data]\n",
    "\n",
    "race_counts = {}\n",
    "for element in races:\n",
    "    if element in race_counts:\n",
    "        race_counts[element] += 1\n",
    "    else:\n",
    "        race_counts[element] = 1\n",
    "        \n",
    "race_counts"
   ]
  },
  {
   "cell_type": "markdown",
   "metadata": {},
   "source": [
    "*We would want to compare these numbers (expressed as proportions) with the racial proportions of the US general population*"
   ]
  },
  {
   "cell_type": "code",
   "execution_count": 67,
   "metadata": {},
   "outputs": [
    {
     "data": {
      "text/plain": [
       "{'Asian/Pacific Islander': 0.01315502291712137,\n",
       " 'Black': 0.23111569674001467,\n",
       " 'Hispanic': 0.0895057441615905,\n",
       " 'Native American/Native Alaskan': 0.009097402726244569,\n",
       " 'White': 0.6571261334550289}"
      ]
     },
     "execution_count": 67,
     "metadata": {},
     "output_type": "execute_result"
    }
   ],
   "source": [
    "total_deaths = 0\n",
    "gun_death_race_proportions = {}\n",
    "gun_death_race_percentages = {}\n",
    "\n",
    "for race, deaths in race_counts.items():\n",
    "    total_deaths += deaths\n",
    "    \n",
    "for race, deaths in race_counts.items():\n",
    "    proportion = deaths/total_deaths\n",
    "    gun_death_race_proportions[race] = proportion\n",
    "    gun_death_race_percentages[race] = \"{:.2%}\".format(proportion)\n",
    "    \n",
    "gun_death_race_proportions"
   ]
  },
  {
   "cell_type": "code",
   "execution_count": 68,
   "metadata": {},
   "outputs": [
    {
     "data": {
      "text/plain": [
       "{'Asian/Pacific Islander': '1.32%',\n",
       " 'Black': '23.11%',\n",
       " 'Hispanic': '8.95%',\n",
       " 'Native American/Native Alaskan': '0.91%',\n",
       " 'White': '65.71%'}"
      ]
     },
     "execution_count": 68,
     "metadata": {},
     "output_type": "execute_result"
    }
   ],
   "source": [
    "gun_death_race_percentages"
   ]
  },
  {
   "cell_type": "markdown",
   "metadata": {},
   "source": [
    "## Compare with Racial Proportions from the US Census"
   ]
  },
  {
   "cell_type": "code",
   "execution_count": 69,
   "metadata": {},
   "outputs": [
    {
     "name": "stdout",
     "output_type": "stream",
     "text": [
      "['Id', 'Year', 'Id', 'Sex', 'Id', 'Hispanic Origin', 'Id', 'Id2', 'Geography', 'Total', 'Race Alone - White', 'Race Alone - Hispanic', 'Race Alone - Black or African American', 'Race Alone - American Indian and Alaska Native', 'Race Alone - Asian', 'Race Alone - Native Hawaiian and Other Pacific Islander', 'Two or More Races']\n",
      "['cen42010', 'April 1, 2010 Census', 'totsex', 'Both Sexes', 'tothisp', 'Total', '0100000US', '', 'United States', '308745538', '197318956', '44618105', '40250635', '3739506', '15159516', '674625', '6984195']\n"
     ]
    }
   ],
   "source": [
    "# open the US Census Data\n",
    "census_file = open(\"census.csv\", 'r')\n",
    "census = list(csv.reader(census_file))\n",
    "\n",
    "for row in census:\n",
    "    print(row)"
   ]
  },
  {
   "cell_type": "code",
   "execution_count": 70,
   "metadata": {},
   "outputs": [
    {
     "data": {
      "text/plain": [
       "{'Asian/Pacific Islander': 15834141,\n",
       " 'Black': 40250635,\n",
       " 'Hispanic': 44618105,\n",
       " 'Native American/Native Alaskan': 3739506,\n",
       " 'White': 197318956}"
      ]
     },
     "execution_count": 70,
     "metadata": {},
     "output_type": "execute_result"
    }
   ],
   "source": [
    "populations = census[1]\n",
    "\n",
    "# map the census totals to our categories\n",
    "mapping = {    \n",
    "    \"Asian/Pacific Islander\" : int(populations[14]) + int(populations[15]),\n",
    "    # added \"Race Alone-Asian\" with \"Race Alone-Pacific Islander\"\n",
    "    \"Black\" : int(populations[12]),\n",
    "    \"Native American/Native Alaskan\" : int(populations[13]),\n",
    "    \"Hispanic\" : int(populations[11]),\n",
    "    \"White\" : int(populations[10]) \n",
    "}\n",
    "\n",
    "mapping"
   ]
  },
  {
   "cell_type": "markdown",
   "metadata": {},
   "source": [
    "*Total populations for each race*"
   ]
  },
  {
   "cell_type": "code",
   "execution_count": 71,
   "metadata": {},
   "outputs": [
    {
     "data": {
      "text/plain": [
       "{'Asian/Pacific Islander': 0.05247239703595832,\n",
       " 'Black': 0.1333856570223443,\n",
       " 'Hispanic': 0.1478589157790168,\n",
       " 'Native American/Native Alaskan': 0.012392263246256828,\n",
       " 'White': 0.6538907669164238}"
      ]
     },
     "execution_count": 71,
     "metadata": {},
     "output_type": "execute_result"
    }
   ],
   "source": [
    "total_population = 0\n",
    "race_population_proportions = {}\n",
    "race_population_percentages = {}\n",
    "\n",
    "# calculate total\n",
    "for race, population in mapping.items():\n",
    "    total_population += population\n",
    "\n",
    "# create proportions and percentages by dividing over the total\n",
    "for race, population in mapping.items():\n",
    "    proportion = population / total_population\n",
    "    race_population_proportions[race] = proportion\n",
    "    race_population_percentages[race] = \"{:.2%}\".format(proportion)\n",
    "    \n",
    "race_population_proportions"
   ]
  },
  {
   "cell_type": "markdown",
   "metadata": {},
   "source": [
    "*Population proportions for each race when compared to the total population*"
   ]
  },
  {
   "cell_type": "markdown",
   "metadata": {},
   "source": [
    "### Side-by-side race comparison of percentage of gun death rates to percentage of general population"
   ]
  },
  {
   "cell_type": "code",
   "execution_count": 72,
   "metadata": {},
   "outputs": [
    {
     "data": {
      "text/plain": [
       "{'Asian/Pacific Islander': '1.32%',\n",
       " 'Black': '23.11%',\n",
       " 'Hispanic': '8.95%',\n",
       " 'Native American/Native Alaskan': '0.91%',\n",
       " 'White': '65.71%'}"
      ]
     },
     "execution_count": 72,
     "metadata": {},
     "output_type": "execute_result"
    }
   ],
   "source": [
    "gun_death_race_percentages"
   ]
  },
  {
   "cell_type": "code",
   "execution_count": 73,
   "metadata": {},
   "outputs": [
    {
     "data": {
      "text/plain": [
       "{'Asian/Pacific Islander': '5.25%',\n",
       " 'Black': '13.34%',\n",
       " 'Hispanic': '14.79%',\n",
       " 'Native American/Native Alaskan': '1.24%',\n",
       " 'White': '65.39%'}"
      ]
     },
     "execution_count": 73,
     "metadata": {},
     "output_type": "execute_result"
    }
   ],
   "source": [
    "race_population_percentages"
   ]
  },
  {
   "cell_type": "markdown",
   "metadata": {},
   "source": [
    "### Gun deaths in each race per 100,000 people in that race"
   ]
  },
  {
   "cell_type": "code",
   "execution_count": 75,
   "metadata": {},
   "outputs": [
    {
     "data": {
      "text/plain": [
       "{'Asian/Pacific Islander': 8.374309664161762,\n",
       " 'Black': 57.8773477735196,\n",
       " 'Hispanic': 20.220491210910907,\n",
       " 'Native American/Native Alaskan': 24.521955573811088,\n",
       " 'White': 33.56849303419181}"
      ]
     },
     "execution_count": 75,
     "metadata": {},
     "output_type": "execute_result"
    }
   ],
   "source": [
    "race_per_hundredk = {}\n",
    "for race, death_count in race_counts.items():\n",
    "    race_population = mapping[race]\n",
    "    race_per_hundredk[race] = death_count / race_population * 100000\n",
    "    \n",
    "race_per_hundredk"
   ]
  },
  {
   "cell_type": "markdown",
   "metadata": {},
   "source": [
    "# Examine gun deaths caused by homicide, for each race"
   ]
  },
  {
   "cell_type": "code",
   "execution_count": 76,
   "metadata": {},
   "outputs": [
    {
     "data": {
      "text/plain": [
       "['Suicide', 'Suicide', 'Suicide', 'Suicide', 'Suicide']"
      ]
     },
     "execution_count": 76,
     "metadata": {},
     "output_type": "execute_result"
    }
   ],
   "source": [
    "# extract the intent column\n",
    "intents = [row[3] for row in data]\n",
    "\n",
    "intents[:5]"
   ]
  },
  {
   "cell_type": "code",
   "execution_count": 77,
   "metadata": {},
   "outputs": [
    {
     "data": {
      "text/plain": [
       "['Asian/Pacific Islander', 'White', 'White', 'White', 'White']"
      ]
     },
     "execution_count": 77,
     "metadata": {},
     "output_type": "execute_result"
    }
   ],
   "source": [
    "# extract the race column\n",
    "races = [row[7] for row in data]\n",
    "\n",
    "races[:5]"
   ]
  },
  {
   "cell_type": "code",
   "execution_count": 78,
   "metadata": {},
   "outputs": [
    {
     "data": {
      "text/plain": [
       "{'Asian/Pacific Islander': 559,\n",
       " 'Black': 19510,\n",
       " 'Hispanic': 5634,\n",
       " 'Native American/Native Alaskan': 326,\n",
       " 'White': 9147}"
      ]
     },
     "execution_count": 78,
     "metadata": {},
     "output_type": "execute_result"
    }
   ],
   "source": [
    "homicide_race_counts = {}\n",
    "\n",
    "for i, race in enumerate(races):\n",
    "    # only add to counts if the Intent was Homicide\n",
    "    if intents[i] == 'Homicide':\n",
    "        if race in homicide_race_counts:\n",
    "            homicide_race_counts[race] += 1\n",
    "        else:\n",
    "            homicide_race_counts[race] = 1\n",
    "\n",
    "homicide_race_counts"
   ]
  },
  {
   "cell_type": "markdown",
   "metadata": {},
   "source": [
    "## Rates per 100,000"
   ]
  },
  {
   "cell_type": "code",
   "execution_count": 79,
   "metadata": {},
   "outputs": [
    {
     "data": {
      "text/plain": [
       "{'Asian/Pacific Islander': 15834141,\n",
       " 'Black': 40250635,\n",
       " 'Hispanic': 44618105,\n",
       " 'Native American/Native Alaskan': 3739506,\n",
       " 'White': 197318956}"
      ]
     },
     "execution_count": 79,
     "metadata": {},
     "output_type": "execute_result"
    }
   ],
   "source": [
    "# these are the population totals from the US Census\n",
    "mapping"
   ]
  },
  {
   "cell_type": "code",
   "execution_count": 82,
   "metadata": {},
   "outputs": [
    {
     "data": {
      "text/plain": [
       "{'Asian/Pacific Islander': 3.530346230970155,\n",
       " 'Black': 48.471284987180944,\n",
       " 'Hispanic': 12.627161104219914,\n",
       " 'Native American/Native Alaskan': 8.717729026240365,\n",
       " 'White': 4.6356417981453335}"
      ]
     },
     "execution_count": 82,
     "metadata": {},
     "output_type": "execute_result"
    }
   ],
   "source": [
    "# calculate per 100,000 in each race population\n",
    "homicide_race_per_hundredk = {}\n",
    "for race, homicide_death_count in homicide_race_counts.items():\n",
    "    race_population = mapping[race]\n",
    "    homicide_race_per_hundredk[race] = homicide_death_count / race_population * 100000\n",
    "    \n",
    "homicide_race_per_hundredk"
   ]
  },
  {
   "cell_type": "code",
   "execution_count": 85,
   "metadata": {
    "scrolled": true
   },
   "outputs": [
    {
     "data": {
      "text/plain": [
       "{'Asian/Pacific Islander': 3.53,\n",
       " 'Black': 48.5,\n",
       " 'Hispanic': 12.6,\n",
       " 'Native American/Native Alaskan': 8.72,\n",
       " 'White': 4.64}"
      ]
     },
     "execution_count": 85,
     "metadata": {},
     "output_type": "execute_result"
    }
   ],
   "source": [
    "# round the numbers\n",
    "homicide_race_per_hundredk_rounded = {}\n",
    "\n",
    "for race, number in homicide_race_per_hundredk.items():\n",
    "    homicide_race_per_hundredk_rounded[race] = float(\"{:.3}\".format(number))\n",
    "\n",
    "homicide_race_per_hundredk_rounded"
   ]
  },
  {
   "cell_type": "markdown",
   "metadata": {},
   "source": [
    "# Is there a link between month and homicide rate?"
   ]
  },
  {
   "cell_type": "code",
   "execution_count": 87,
   "metadata": {},
   "outputs": [
    {
     "data": {
      "text/plain": [
       "[datetime.datetime(2012, 1, 1, 0, 0),\n",
       " datetime.datetime(2012, 1, 1, 0, 0),\n",
       " datetime.datetime(2012, 1, 1, 0, 0),\n",
       " datetime.datetime(2012, 2, 1, 0, 0),\n",
       " datetime.datetime(2012, 2, 1, 0, 0)]"
      ]
     },
     "execution_count": 87,
     "metadata": {},
     "output_type": "execute_result"
    }
   ],
   "source": [
    "# Recall that we stored the month, year pair for each death\n",
    "dates[:5]"
   ]
  },
  {
   "cell_type": "code",
   "execution_count": 92,
   "metadata": {},
   "outputs": [
    {
     "data": {
      "text/plain": [
       "{1: 2829,\n",
       " 2: 2178,\n",
       " 3: 2780,\n",
       " 4: 2845,\n",
       " 5: 2976,\n",
       " 6: 3130,\n",
       " 7: 3269,\n",
       " 8: 3125,\n",
       " 9: 2966,\n",
       " 10: 2968,\n",
       " 11: 2919,\n",
       " 12: 3191}"
      ]
     },
     "execution_count": 92,
     "metadata": {},
     "output_type": "execute_result"
    }
   ],
   "source": [
    "homicide_month_counts = {}\n",
    "for i, date in enumerate(dates):\n",
    "    if intents[i] == \"Homicide\":\n",
    "        if date.month in homicide_month_counts: \n",
    "            homicide_month_counts[date.month] += 1\n",
    "        else:\n",
    "            homicide_month_counts[date.month] = 1\n",
    "        \n",
    "homicide_month_counts"
   ]
  },
  {
   "cell_type": "markdown",
   "metadata": {},
   "source": [
    "*Looking at absolute month totals over 2012-2014 inherently won't reveal much, but perhaps we can look at the top 3 months for each year*"
   ]
  },
  {
   "cell_type": "code",
   "execution_count": 93,
   "metadata": {},
   "outputs": [
    {
     "data": {
      "text/plain": [
       "{datetime.datetime(2012, 1, 1, 0, 0): 972,\n",
       " datetime.datetime(2012, 2, 1, 0, 0): 749,\n",
       " datetime.datetime(2012, 3, 1, 0, 0): 966,\n",
       " datetime.datetime(2012, 4, 1, 0, 0): 999,\n",
       " datetime.datetime(2012, 5, 1, 0, 0): 1003,\n",
       " datetime.datetime(2012, 6, 1, 0, 0): 1044,\n",
       " datetime.datetime(2012, 7, 1, 0, 0): 1160,\n",
       " datetime.datetime(2012, 8, 1, 0, 0): 1090,\n",
       " datetime.datetime(2012, 9, 1, 0, 0): 1070,\n",
       " datetime.datetime(2012, 10, 1, 0, 0): 979,\n",
       " datetime.datetime(2012, 11, 1, 0, 0): 978,\n",
       " datetime.datetime(2012, 12, 1, 0, 0): 1083,\n",
       " datetime.datetime(2013, 1, 1, 0, 0): 986,\n",
       " datetime.datetime(2013, 2, 1, 0, 0): 721,\n",
       " datetime.datetime(2013, 3, 1, 0, 0): 923,\n",
       " datetime.datetime(2013, 4, 1, 0, 0): 916,\n",
       " datetime.datetime(2013, 5, 1, 0, 0): 955,\n",
       " datetime.datetime(2013, 6, 1, 0, 0): 1066,\n",
       " datetime.datetime(2013, 7, 1, 0, 0): 1137,\n",
       " datetime.datetime(2013, 8, 1, 0, 0): 1000,\n",
       " datetime.datetime(2013, 9, 1, 0, 0): 954,\n",
       " datetime.datetime(2013, 10, 1, 0, 0): 1009,\n",
       " datetime.datetime(2013, 11, 1, 0, 0): 979,\n",
       " datetime.datetime(2013, 12, 1, 0, 0): 1028,\n",
       " datetime.datetime(2014, 1, 1, 0, 0): 871,\n",
       " datetime.datetime(2014, 2, 1, 0, 0): 708,\n",
       " datetime.datetime(2014, 3, 1, 0, 0): 891,\n",
       " datetime.datetime(2014, 4, 1, 0, 0): 930,\n",
       " datetime.datetime(2014, 5, 1, 0, 0): 1018,\n",
       " datetime.datetime(2014, 6, 1, 0, 0): 1020,\n",
       " datetime.datetime(2014, 7, 1, 0, 0): 972,\n",
       " datetime.datetime(2014, 8, 1, 0, 0): 1035,\n",
       " datetime.datetime(2014, 9, 1, 0, 0): 942,\n",
       " datetime.datetime(2014, 10, 1, 0, 0): 980,\n",
       " datetime.datetime(2014, 11, 1, 0, 0): 962,\n",
       " datetime.datetime(2014, 12, 1, 0, 0): 1080}"
      ]
     },
     "execution_count": 93,
     "metadata": {},
     "output_type": "execute_result"
    }
   ],
   "source": [
    "homicide_month_year_counts = {}\n",
    "for i, date in enumerate(dates):\n",
    "    if intents[i] == \"Homicide\":\n",
    "        if date in homicide_month_year_counts: \n",
    "            homicide_month_year_counts[date] += 1\n",
    "        else:\n",
    "            homicide_month_year_counts[date] = 1\n",
    "\n",
    "homicide_month_year_counts"
   ]
  },
  {
   "cell_type": "markdown",
   "metadata": {},
   "source": [
    "**Top 3 months for 2012**\n",
    "1. `August` : `1090`\n",
    "2. `December` : `1083`\n",
    "3. `September`: `1070`\n",
    "\n",
    "**Top 3 months for 2013**\n",
    "1. `June` : `1066`\n",
    "2. `December` : `1028`\n",
    "3. `October` : `1009`\n",
    "\n",
    "**Top 3 months for 2014**\n",
    "1. `December` : `1080`\n",
    "2. `August` : `1035`\n",
    "3. `June` : `1020`\n",
    "\n",
    "*It seems like December consistenly shows up among the top 3 months in which homicide-caused gun deaths occurred during a given year. June and August perhaps as well, though they didn't show up in the top 3 every single year. Truly, the best way to find a relationship would be to plot a graph; however, this is not covered in the curriculum yet.*"
   ]
  },
  {
   "cell_type": "markdown",
   "metadata": {},
   "source": [
    "# Gun deaths by homicide, for each sex"
   ]
  },
  {
   "cell_type": "code",
   "execution_count": 96,
   "metadata": {},
   "outputs": [
    {
     "data": {
      "text/plain": [
       "['M', 'F', 'M', 'M', 'M']"
      ]
     },
     "execution_count": 96,
     "metadata": {},
     "output_type": "execute_result"
    }
   ],
   "source": [
    "# Recall that we stored the sex of the victim for each death\n",
    "sexes[:5]"
   ]
  },
  {
   "cell_type": "code",
   "execution_count": 95,
   "metadata": {},
   "outputs": [
    {
     "data": {
      "text/plain": [
       "{'F': 5373, 'M': 29803}"
      ]
     },
     "execution_count": 95,
     "metadata": {},
     "output_type": "execute_result"
    }
   ],
   "source": [
    "homicide_sex_counts = {}\n",
    "\n",
    "for i, sex in enumerate(sexes):\n",
    "    if intents[i] == \"Homicide\":\n",
    "        if sex in homicide_sex_counts: \n",
    "            homicide_sex_counts[sex] += 1\n",
    "        else:\n",
    "            homicide_sex_counts[sex] = 1\n",
    "        \n",
    "homicide_sex_counts"
   ]
  },
  {
   "cell_type": "markdown",
   "metadata": {},
   "source": [
    "# Gun deaths by accident, for each sex"
   ]
  },
  {
   "cell_type": "code",
   "execution_count": 97,
   "metadata": {},
   "outputs": [
    {
     "data": {
      "text/plain": [
       "{'F': 218, 'M': 1421}"
      ]
     },
     "execution_count": 97,
     "metadata": {},
     "output_type": "execute_result"
    }
   ],
   "source": [
    "accidental_sex_counts = {}\n",
    "\n",
    "for i, sex in enumerate(sexes):\n",
    "    if intents[i] == \"Accidental\":\n",
    "        if sex in accidental_sex_counts: \n",
    "            accidental_sex_counts[sex] += 1\n",
    "        else:\n",
    "            accidental_sex_counts[sex] = 1\n",
    "        \n",
    "accidental_sex_counts"
   ]
  },
  {
   "cell_type": "markdown",
   "metadata": {},
   "source": [
    "# Gun deaths by accident, for each race"
   ]
  },
  {
   "cell_type": "code",
   "execution_count": 98,
   "metadata": {},
   "outputs": [
    {
     "data": {
      "text/plain": [
       "['Asian/Pacific Islander', 'White', 'White', 'White', 'White']"
      ]
     },
     "execution_count": 98,
     "metadata": {},
     "output_type": "execute_result"
    }
   ],
   "source": [
    "# Recall that we stored the race of each victim for each death\n",
    "races[:5]"
   ]
  },
  {
   "cell_type": "code",
   "execution_count": 100,
   "metadata": {},
   "outputs": [
    {
     "data": {
      "text/plain": [
       "{'Asian/Pacific Islander': 12,\n",
       " 'Black': 328,\n",
       " 'Hispanic': 145,\n",
       " 'Native American/Native Alaskan': 22,\n",
       " 'White': 1132}"
      ]
     },
     "execution_count": 100,
     "metadata": {},
     "output_type": "execute_result"
    }
   ],
   "source": [
    "accidental_race_counts = {}\n",
    "\n",
    "for i, race in enumerate(races):\n",
    "    if intents[i] == \"Accidental\":\n",
    "        if race in accidental_race_counts:\n",
    "            accidental_race_counts[race] += 1\n",
    "        else:\n",
    "            accidental_race_counts[race] = 1\n",
    "            \n",
    "accidental_race_counts"
   ]
  }
 ],
 "metadata": {
  "kernelspec": {
   "display_name": "Python 3",
   "language": "python",
   "name": "python3"
  },
  "language_info": {
   "codemirror_mode": {
    "name": "ipython",
    "version": 3
   },
   "file_extension": ".py",
   "mimetype": "text/x-python",
   "name": "python",
   "nbconvert_exporter": "python",
   "pygments_lexer": "ipython3",
   "version": "3.6.4"
  }
 },
 "nbformat": 4,
 "nbformat_minor": 1
}
