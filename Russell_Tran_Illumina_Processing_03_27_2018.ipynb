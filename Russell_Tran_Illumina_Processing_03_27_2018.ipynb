
# coding: utf-8

# In[1]:


#Enter file names and barcode sequence below.

nameof_inputfile = "C:/Users/Russell Tran/Desktop/CoolShit.txt"
nameof_outputfile = "C:/Users/Russell Tran/Desktop/CoolShit_DNA_read_output.txt"
barcode = "TA"   # Barcode sequence has to be in capital letters.
#               Enter from left to right as it appears in the read.

barcode_starting_position = 1  #Which position in the read has the first letter of the barcode, where 1 indicates first position.

#-------------------------------------------------------------------------------------

from os.path import join

inputfile = open(nameof_inputfile, "r")
outputfile = open(nameof_outputfile, "w")


barcodelength = len(barcode)
barcode_firstresidue = barcode_starting_position-1 #1st residue is the 0th element of the string. This adjusts for that.
barcode_lastresidue = barcode_firstresidue + barcodelength

i = -2   #since the first DNA read is on line 2
for line in inputfile:
    if i%4 == 0: #if this line is a 4th line, which means it should be a DNA line
        if line[barcode_firstresidue:barcode_lastresidue]==barcode: #second check, making sure this is DNA by looking at the barcode
            outputfile.write(line) #if all of these checks pass, then this line must be a DNA read and so it's written to the next txt file
    
    if i%1000000 == 0:
        print("currently reading line: " + str(i))
                

    i += 1

print("All done with part 1")

inputfile.close()
outputfile.close()






# In[4]:


#--------------------- BEGIN PART 2
from collections import defaultdict
DNA_counts = defaultdict(int)
DNA_reads_file = open(nameof_outputfile, "r")

for line in DNA_reads_file:
    
    line_temp = line
    
    if line[len(line)-1:len(line)]=='\n': #for some unknown reason, sometimes line has a \n on it, which needs to be removed
        line_temp = line[0:len(line)-1]
        
    DNA_counts[line_temp] += 1

#print(DNA_counts)
print("All done with part 2")




# In[3]:


#print (len(DNA_counts))


# In[19]:


import numpy as np
import pandas as pd

DNA_frequency = pd.Series(DNA_counts)

#DNA_frequency.loc['CCCGGGACAATTACTATTTACAATTACAATGGTGTGTCCAATGTTTTACCTACTAGGCACGGACTCTCCGTGTGGCACCCATCATCATACATCATCATAAA']


# In[17]:


#print(DNA_frequency)


# In[23]:


data = DNA_frequency.to_frame()
data['DNA_sequence'] = data.index


# In[25]:


from Bio.Seq import Seq
from Bio.Alphabet import generic_dna #These two are necessary for operations like translation and reverse complement. 
  

def translate(DNA_string):
    read_dna_seq = Seq(DNA_string, generic_dna) #necessary so that sequence can be translated by Biopython (now sequence is not just a string, but a sequence class that is recognized by biopython)
    read_aa_seq = str(read_dna_seq.translate())
    
    return read_aa_seq


proteins = data['DNA_sequence'].apply(translate)

data['AA_sequence'] = proteins

#print(proteins)
    


# In[26]:


#print(data['AA_sequence'].loc['CCCGGGACAATTACTATTTACAATTACAATGTTTTAGGCGAAGATGATTTCGAATTCATGCTGTTTAAACCACAGTCTGAAATGTGATATACATCATCATACATCATCATAAA'])

print("Made it to the end. Dataframe can hold proteins.")