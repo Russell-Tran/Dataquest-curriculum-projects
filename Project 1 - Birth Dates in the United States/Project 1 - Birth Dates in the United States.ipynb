{
 "cells": [
  {
   "cell_type": "markdown",
   "metadata": {},
   "source": [
    "# Dataquest Curriculum Project 1: Birth Dates in the United States\n",
    "\n",
    "Here, we familiarize ourselves with the very basics of Jupyter by accessing some data on births in the United States from 1994-2003. The [source](https://github.com/fivethirtyeight/data/tree/master/births) of this data is from [FiveThirtyEight](https://github.com/fivethirtyeight), who originally sourced it from the Center for Disease Control and Prevention's National Center for Health Statistics. This is the structure of the data set:\n",
    "\n",
    "- `year` - Year\n",
    "- `month` - Month\n",
    "- `date_of_month` - Day number of the month\n",
    "- `day_of_week` - Day of week, where 1 is Monday and 7 is Sunday\n",
    "- `births` - Number of births"
   ]
  },
  {
   "cell_type": "markdown",
   "metadata": {},
   "source": [
    "# Practice parsing a CSV"
   ]
  },
  {
   "cell_type": "code",
   "execution_count": 7,
   "metadata": {
    "scrolled": true
   },
   "outputs": [
    {
     "data": {
      "text/plain": [
       "'year,month,date_of_month,day_of_week,births\\n1994,1,1,6,8096\\n1994,1,2,7,7772\\n1994,1,3,1,10142\\n1994,1,4,2,11248\\n1994,1,5,3,11053\\n1994,1,6,4,11406\\n1994,1,7,5,11251\\n1994,1,8,6,8653\\n1994,1,9,7,7910\\n1994,1,10,1,10498\\n1994,1,11,2,11706\\n1994,1,12,3,11567\\n1994,1,13,4,11212\\n1994,1,14,5,11570\\n1994,1,15,6,8660\\n1994,1,16,7,8123\\n1994,1,17,1,10567\\n1994,1,18,2,11541\\n1994,1,19,3,11257\\n1994,1,20,4,11682\\n1994,1,21,5,11811\\n1994,1,22,6,8833\\n1994,1,23,7,8310\\n1994,1,24,1,11125\\n1994,1,25,2,11981\\n1994,1,26,3,11514\\n1994,1,27,4,11702\\n1994,1,28,5,11666\\n1994,1,29,6,8988\\n1994,1,30,7,8096\\n1994,1,31,1,10765\\n1994,2,1,2,11755\\n1994,2,2,3,11483\\n1994,2,3,4,11523\\n1994,2,4,5,11677\\n1994,2,5,6,8991\\n1994,2,6,7,8309\\n1994,2,7,1,10984\\n1994,2,8,2,12152\\n1994,2,9,3,11515\\n1994,2,10,4,11623\\n1994,2,11,5,11517\\n1994,2,12,6,8945\\n1994,2,13,7,8171\\n1994,2,14,1,11551\\n1994,2,15,2,12164\\n1994,2,16,3,12009\\n1994,2,17,4,11674\\n1994,2,18,5,11887\\n1994,2,19,6,8946\\n1994,2,20,7,8402\\n1994,2,21,1,10617\\n1994,2,22,2,11810\\n1994,2,23,3,11776\\n1994,2,24,4,11667\\n'"
      ]
     },
     "execution_count": 7,
     "metadata": {},
     "output_type": "execute_result"
    }
   ],
   "source": [
    "f = open(\"US_births_1994-2003_CDC_NCHS.csv\", 'r')\n",
    "text = f.read()\n",
    "text[:1000]"
   ]
  },
  {
   "cell_type": "code",
   "execution_count": 8,
   "metadata": {
    "scrolled": true
   },
   "outputs": [
    {
     "name": "stdout",
     "output_type": "stream",
     "text": [
      "['year,month,date_of_month,day_of_week,births', '1994,1,1,6,8096', '1994,1,2,7,7772', '1994,1,3,1,10142', '1994,1,4,2,11248', '1994,1,5,3,11053', '1994,1,6,4,11406', '1994,1,7,5,11251', '1994,1,8,6,8653', '1994,1,9,7,7910']\n"
     ]
    }
   ],
   "source": [
    "print(text.split('\\n')[:10])"
   ]
  },
  {
   "cell_type": "code",
   "execution_count": 9,
   "metadata": {
    "scrolled": true
   },
   "outputs": [
    {
     "data": {
      "text/plain": [
       "['year,month,date_of_month,day_of_week,births',\n",
       " '1994,1,1,6,8096',\n",
       " '1994,1,2,7,7772',\n",
       " '1994,1,3,1,10142',\n",
       " '1994,1,4,2,11248',\n",
       " '1994,1,5,3,11053',\n",
       " '1994,1,6,4,11406',\n",
       " '1994,1,7,5,11251',\n",
       " '1994,1,8,6,8653',\n",
       " '1994,1,9,7,7910']"
      ]
     },
     "execution_count": 9,
     "metadata": {},
     "output_type": "execute_result"
    }
   ],
   "source": [
    "text.split('\\n')[:10]"
   ]
  },
  {
   "cell_type": "code",
   "execution_count": 11,
   "metadata": {
    "scrolled": true
   },
   "outputs": [
    {
     "data": {
      "text/plain": [
       "[['year', 'month', 'date_of_month', 'day_of_week', 'births'],\n",
       " ['1994', '1', '1', '6', '8096'],\n",
       " ['1994', '1', '2', '7', '7772'],\n",
       " ['1994', '1', '3', '1', '10142'],\n",
       " ['1994', '1', '4', '2', '11248'],\n",
       " ['1994', '1', '5', '3', '11053'],\n",
       " ['1994', '1', '6', '4', '11406'],\n",
       " ['1994', '1', '7', '5', '11251'],\n",
       " ['1994', '1', '8', '6', '8653'],\n",
       " ['1994', '1', '9', '7', '7910']]"
      ]
     },
     "execution_count": 11,
     "metadata": {},
     "output_type": "execute_result"
    }
   ],
   "source": [
    "data = []\n",
    "for element in text.split('\\n'):\n",
    "    row = element.split(',')\n",
    "    data.append(row)\n",
    "    \n",
    "data[:10]"
   ]
  },
  {
   "cell_type": "markdown",
   "metadata": {},
   "source": [
    "# Calculate Day-of-Week Totals"
   ]
  },
  {
   "cell_type": "code",
   "execution_count": 5,
   "metadata": {},
   "outputs": [
    {
     "data": {
      "text/plain": [
       "{'1': 5789166,\n",
       " '2': 6446196,\n",
       " '3': 6322855,\n",
       " '4': 6288429,\n",
       " '5': 6233657,\n",
       " '6': 4562111,\n",
       " '7': 4079723}"
      ]
     },
     "execution_count": 5,
     "metadata": {},
     "output_type": "execute_result"
    }
   ],
   "source": [
    "day_of_week_totals = {}\n",
    "data_no_header = data[1:]\n",
    "\n",
    "for row in data_no_header:\n",
    "    # row[3] accesses which day of the week it is, \n",
    "    # and row[4] accesses number of births\n",
    "    if row[3] in day_of_week_totals:\n",
    "        day_of_week_totals[row[3]] += int(row[4])\n",
    "    else:\n",
    "        day_of_week_totals[row[3]] = int(row[4])\n",
    "        \n",
    "day_of_week_totals"
   ]
  },
  {
   "cell_type": "markdown",
   "metadata": {
    "collapsed": true
   },
   "source": [
    "# Parsing a CSV as a function"
   ]
  },
  {
   "cell_type": "code",
   "execution_count": 13,
   "metadata": {},
   "outputs": [
    {
     "data": {
      "text/plain": [
       "[[1994, 1, 1, 6, 8096],\n",
       " [1994, 1, 2, 7, 7772],\n",
       " [1994, 1, 3, 1, 10142],\n",
       " [1994, 1, 4, 2, 11248],\n",
       " [1994, 1, 5, 3, 11053],\n",
       " [1994, 1, 6, 4, 11406],\n",
       " [1994, 1, 7, 5, 11251],\n",
       " [1994, 1, 8, 6, 8653],\n",
       " [1994, 1, 9, 7, 7910],\n",
       " [1994, 1, 10, 1, 10498]]"
      ]
     },
     "execution_count": 13,
     "metadata": {},
     "output_type": "execute_result"
    }
   ],
   "source": [
    "# Accepts a csv file name as a string, parses rows by \\n, columns by comma,\n",
    "# and returns as a List of Lists the (int) data\n",
    "# Assumes no header row is present. If a header row is present, set header_row\n",
    "# to True so that the function omits it from the List of Lists\n",
    "def read_csv(filename_str, header_row=False):\n",
    "    \n",
    "    file = open(filename_str, 'r')\n",
    "    raw = file.read()\n",
    "    string_list = raw.split('\\n')\n",
    "    \n",
    "    if (header_row):\n",
    "        string_list = string_list[1:]\n",
    "        \n",
    "    final_list = []\n",
    "    for line in string_list:\n",
    "        int_fields = []\n",
    "        string_fields = line.split(',')\n",
    "        \n",
    "        for element in string_fields:\n",
    "            #convert everything in a line to ints\n",
    "            int_fields.append(int(element))\n",
    "            \n",
    "        final_list.append(int_fields)\n",
    "        \n",
    "    return final_list\n",
    "\n",
    "\n",
    "cdc_list = read_csv(\"US_births_1994-2003_CDC_NCHS.csv\", header_row=True)\n",
    "cdc_list[:10]"
   ]
  },
  {
   "cell_type": "markdown",
   "metadata": {},
   "source": [
    "# Calculate Monthly Totals as a function"
   ]
  },
  {
   "cell_type": "code",
   "execution_count": 15,
   "metadata": {},
   "outputs": [
    {
     "data": {
      "text/plain": [
       "{1: 3232517,\n",
       " 2: 3018140,\n",
       " 3: 3322069,\n",
       " 4: 3185314,\n",
       " 5: 3350907,\n",
       " 6: 3296530,\n",
       " 7: 3498783,\n",
       " 8: 3525858,\n",
       " 9: 3439698,\n",
       " 10: 3378814,\n",
       " 11: 3171647,\n",
       " 12: 3301860}"
      ]
     },
     "execution_count": 15,
     "metadata": {},
     "output_type": "execute_result"
    }
   ],
   "source": [
    "def month_births(list_of_lists):\n",
    "    births_per_month = {}\n",
    "    for row in list_of_lists:\n",
    "        month = row[1]\n",
    "        births = row[4]\n",
    "        \n",
    "        if month in births_per_month:\n",
    "            births_per_month[month] += births\n",
    "        else:\n",
    "            births_per_month[month] = births\n",
    "        \n",
    "    return births_per_month\n",
    "\n",
    "cdc_months_births = month_births(cdc_list)\n",
    "cdc_months_births"
   ]
  },
  {
   "cell_type": "markdown",
   "metadata": {},
   "source": [
    "# Calculate Day-of-Week Totals as a function"
   ]
  },
  {
   "cell_type": "code",
   "execution_count": 16,
   "metadata": {},
   "outputs": [
    {
     "data": {
      "text/plain": [
       "{1: 5789166,\n",
       " 2: 6446196,\n",
       " 3: 6322855,\n",
       " 4: 6288429,\n",
       " 5: 6233657,\n",
       " 6: 4562111,\n",
       " 7: 4079723}"
      ]
     },
     "execution_count": 16,
     "metadata": {},
     "output_type": "execute_result"
    }
   ],
   "source": [
    "def dow_births(list_of_lists):\n",
    "    births_per_dow = {}\n",
    "    for row in list_of_lists:\n",
    "        dow = row[3]\n",
    "        births = row[4]\n",
    "        \n",
    "        if dow in births_per_dow:\n",
    "            births_per_dow[dow] += births\n",
    "        else:\n",
    "            births_per_dow[dow] = births\n",
    "            \n",
    "    return births_per_dow\n",
    "\n",
    "cdc_day_births = dow_births(cdc_list)\n",
    "cdc_day_births"
   ]
  },
  {
   "cell_type": "markdown",
   "metadata": {},
   "source": [
    "# Abstraction: Calculate any category's totals as a function"
   ]
  },
  {
   "cell_type": "code",
   "execution_count": 17,
   "metadata": {},
   "outputs": [],
   "source": [
    "# data - a list of lists\n",
    "# column - the column number we want to calculate the totals for\n",
    "def calc_counts(data, column):\n",
    "    births_per_category = {}\n",
    "    for row in data:\n",
    "        category = row[column]\n",
    "        births = row[4]\n",
    "        \n",
    "        if category in births_per_category:\n",
    "            births_per_category[category] += births\n",
    "        else:\n",
    "            births_per_category[category] = births\n",
    "            \n",
    "    return births_per_category\n",
    "\n",
    "cdc_year_births = calc_counts(cdc_list, 0)\n",
    "cdc_month_births = calc_counts(cdc_list, 1)\n",
    "cdc_dom_births = calc_counts(cdc_list, 2)\n",
    "cdc_dow_births = calc_counts(cdc_list, 3)"
   ]
  },
  {
   "cell_type": "code",
   "execution_count": 18,
   "metadata": {},
   "outputs": [
    {
     "data": {
      "text/plain": [
       "{1994: 3952767,\n",
       " 1995: 3899589,\n",
       " 1996: 3891494,\n",
       " 1997: 3880894,\n",
       " 1998: 3941553,\n",
       " 1999: 3959417,\n",
       " 2000: 4058814,\n",
       " 2001: 4025933,\n",
       " 2002: 4021726,\n",
       " 2003: 4089950}"
      ]
     },
     "execution_count": 18,
     "metadata": {},
     "output_type": "execute_result"
    }
   ],
   "source": [
    "cdc_year_births"
   ]
  },
  {
   "cell_type": "code",
   "execution_count": 19,
   "metadata": {},
   "outputs": [
    {
     "data": {
      "text/plain": [
       "{1: 3232517,\n",
       " 2: 3018140,\n",
       " 3: 3322069,\n",
       " 4: 3185314,\n",
       " 5: 3350907,\n",
       " 6: 3296530,\n",
       " 7: 3498783,\n",
       " 8: 3525858,\n",
       " 9: 3439698,\n",
       " 10: 3378814,\n",
       " 11: 3171647,\n",
       " 12: 3301860}"
      ]
     },
     "execution_count": 19,
     "metadata": {},
     "output_type": "execute_result"
    }
   ],
   "source": [
    "cdc_month_births"
   ]
  },
  {
   "cell_type": "code",
   "execution_count": 20,
   "metadata": {},
   "outputs": [
    {
     "data": {
      "text/plain": [
       "{1: 1276557,\n",
       " 2: 1288739,\n",
       " 3: 1304499,\n",
       " 4: 1288154,\n",
       " 5: 1299953,\n",
       " 6: 1304474,\n",
       " 7: 1310459,\n",
       " 8: 1312297,\n",
       " 9: 1303292,\n",
       " 10: 1320764,\n",
       " 11: 1314361,\n",
       " 12: 1318437,\n",
       " 13: 1277684,\n",
       " 14: 1320153,\n",
       " 15: 1319171,\n",
       " 16: 1315192,\n",
       " 17: 1324953,\n",
       " 18: 1326855,\n",
       " 19: 1318727,\n",
       " 20: 1324821,\n",
       " 21: 1322897,\n",
       " 22: 1317381,\n",
       " 23: 1293290,\n",
       " 24: 1288083,\n",
       " 25: 1272116,\n",
       " 26: 1284796,\n",
       " 27: 1294395,\n",
       " 28: 1307685,\n",
       " 29: 1223161,\n",
       " 30: 1202095,\n",
       " 31: 746696}"
      ]
     },
     "execution_count": 20,
     "metadata": {},
     "output_type": "execute_result"
    }
   ],
   "source": [
    "cdc_dom_births"
   ]
  },
  {
   "cell_type": "code",
   "execution_count": 21,
   "metadata": {},
   "outputs": [
    {
     "data": {
      "text/plain": [
       "{1: 5789166,\n",
       " 2: 6446196,\n",
       " 3: 6322855,\n",
       " 4: 6288429,\n",
       " 5: 6233657,\n",
       " 6: 4562111,\n",
       " 7: 4079723}"
      ]
     },
     "execution_count": 21,
     "metadata": {},
     "output_type": "execute_result"
    }
   ],
   "source": [
    "cdc_dow_births"
   ]
  },
  {
   "cell_type": "markdown",
   "metadata": {},
   "source": [
    "# Calculate max & min for a given dictionary"
   ]
  },
  {
   "cell_type": "code",
   "execution_count": 24,
   "metadata": {},
   "outputs": [
    {
     "data": {
      "text/plain": [
       "[6446196, 4079723]"
      ]
     },
     "execution_count": 24,
     "metadata": {},
     "output_type": "execute_result"
    }
   ],
   "source": [
    "# returns as list [max, min]\n",
    "def max_min(dictionary):\n",
    "    maximum = float('-inf')\n",
    "    minimum = float('inf')\n",
    "    \n",
    "    for key in dictionary:\n",
    "        value = dictionary[key]\n",
    "        if value > maximum:\n",
    "            maximum = value\n",
    "        if value < minimum:\n",
    "            minimum = value\n",
    "            \n",
    "    return [maximum, minimum]\n",
    "\n",
    "max_min(cdc_dow_births)"
   ]
  },
  {
   "cell_type": "markdown",
   "metadata": {},
   "source": [
    "# Calculate changes across years"
   ]
  },
  {
   "cell_type": "code",
   "execution_count": 25,
   "metadata": {},
   "outputs": [],
   "source": [
    "# data - a list of lists\n",
    "# column - the column number where the category is located\n",
    "# category - the category (ex: Saturday, or Jan, or the 2nd of each month as int)                                    \n",
    "# returns a dictionary relating a year to its birth totals for a given category\n",
    "\n",
    "def category_totals(data, column, category):\n",
    "    year_totals = {}\n",
    "    for row in data:\n",
    "        year = row[0]\n",
    "        births = row[4]\n",
    "        if row[column] == category:\n",
    "            if year in year_totals:\n",
    "                year_totals[year] += births\n",
    "            else:\n",
    "                year_totals[year] = births\n",
    "    return year_totals"
   ]
  },
  {
   "cell_type": "code",
   "execution_count": 26,
   "metadata": {},
   "outputs": [
    {
     "data": {
      "text/plain": [
       "{1994: 474732,\n",
       " 1995: 459580,\n",
       " 1996: 456261,\n",
       " 1997: 450840,\n",
       " 1998: 453776,\n",
       " 1999: 449985,\n",
       " 2000: 469794,\n",
       " 2001: 453928,\n",
       " 2002: 445770,\n",
       " 2003: 447445}"
      ]
     },
     "execution_count": 26,
     "metadata": {},
     "output_type": "execute_result"
    }
   ],
   "source": [
    "# Total births on Saturdays each year\n",
    "# DOW is column 3, Saturday is int 6\n",
    "category_totals(cdc_list, 3, 6)"
   ]
  },
  {
   "cell_type": "code",
   "execution_count": 27,
   "metadata": {},
   "outputs": [
    {
     "data": {
      "text/plain": [
       "{1994: 320705,\n",
       " 1995: 316013,\n",
       " 1996: 314283,\n",
       " 1997: 317211,\n",
       " 1998: 319340,\n",
       " 1999: 319182,\n",
       " 2000: 330108,\n",
       " 2001: 335198,\n",
       " 2002: 330674,\n",
       " 2003: 329803}"
      ]
     },
     "execution_count": 27,
     "metadata": {},
     "output_type": "execute_result"
    }
   ],
   "source": [
    "# Total births on January each year\n",
    "# Month is column 1, January is int 1\n",
    "category_totals(cdc_list, 1, 1)"
   ]
  },
  {
   "cell_type": "code",
   "execution_count": 28,
   "metadata": {},
   "outputs": [
    {
     "data": {
      "text/plain": [
       "{1994: 128688,\n",
       " 1995: 123816,\n",
       " 1996: 126392,\n",
       " 1997: 124563,\n",
       " 1998: 132042,\n",
       " 1999: 134071,\n",
       " 2000: 127447,\n",
       " 2001: 132651,\n",
       " 2002: 127603,\n",
       " 2003: 131466}"
      ]
     },
     "execution_count": 28,
     "metadata": {},
     "output_type": "execute_result"
    }
   ],
   "source": [
    "# Total births on the 2nd day of every month each year\n",
    "# DOM is column 2, 2nd day of every month is int 2\n",
    "category_totals(cdc_list, 2, 2)"
   ]
  },
  {
   "cell_type": "markdown",
   "metadata": {},
   "source": [
    "# How did the number of births on Saturday change each year between 1994 and 2003?"
   ]
  },
  {
   "cell_type": "code",
   "execution_count": 33,
   "metadata": {},
   "outputs": [
    {
     "data": {
      "text/plain": [
       "{1994: 474732,\n",
       " 1995: 459580,\n",
       " 1996: 456261,\n",
       " 1997: 450840,\n",
       " 1998: 453776,\n",
       " 1999: 449985,\n",
       " 2000: 469794,\n",
       " 2001: 453928,\n",
       " 2002: 445770,\n",
       " 2003: 447445}"
      ]
     },
     "execution_count": 33,
     "metadata": {},
     "output_type": "execute_result"
    }
   ],
   "source": [
    "# given dictionary relating int year : int total\n",
    "def increasing_or_decreasing(dictionary):\n",
    "    changes = {}\n",
    "    # for each year, peeps at the previous year\n",
    "    for key in dictionary:\n",
    "        if key-1 not in dictionary:\n",
    "            changes[key] = \"unknown\"\n",
    "        elif dictionary[key-1] < dictionary[key]:\n",
    "            changes[key] = \"increasing\"\n",
    "        elif dictionary[key-1] > dictionary[key]:\n",
    "            changes[key] = \"decreasing\"\n",
    "        else: # rare chance they are equal\n",
    "            changes[key] = \"no change\"\n",
    "    return changes\n",
    "\n",
    "saturday_totals = category_totals(cdc_list, 3, 6)\n",
    "saturday_totals"
   ]
  },
  {
   "cell_type": "code",
   "execution_count": 34,
   "metadata": {},
   "outputs": [
    {
     "data": {
      "text/plain": [
       "{1994: 'unknown',\n",
       " 1995: 'decreasing',\n",
       " 1996: 'decreasing',\n",
       " 1997: 'decreasing',\n",
       " 1998: 'increasing',\n",
       " 1999: 'decreasing',\n",
       " 2000: 'increasing',\n",
       " 2001: 'decreasing',\n",
       " 2002: 'decreasing',\n",
       " 2003: 'increasing'}"
      ]
     },
     "execution_count": 34,
     "metadata": {},
     "output_type": "execute_result"
    }
   ],
   "source": [
    "increasing_or_decreasing(saturday_totals)"
   ]
  },
  {
   "cell_type": "markdown",
   "metadata": {},
   "source": [
    "# Combine CDC birth data with Social Security Administration birth data\n",
    "The [source](https://github.com/fivethirtyeight/data/tree/master/births) of this data is again from [FiveThirtyEight](https://github.com/fivethirtyeight), who this time sourced it from the Social Security Adminstration (SSA).\n",
    "\n",
    "The SSA data covers 2000-2014. For overlapping time periods, the birth counts will be averaged between the two sources (decimals truncated)."
   ]
  },
  {
   "cell_type": "code",
   "execution_count": 35,
   "metadata": {},
   "outputs": [
    {
     "data": {
      "text/plain": [
       "[[2000, 1, 1, 6, 9083],\n",
       " [2000, 1, 2, 7, 8006],\n",
       " [2000, 1, 3, 1, 11363],\n",
       " [2000, 1, 4, 2, 13032],\n",
       " [2000, 1, 5, 3, 12558],\n",
       " [2000, 1, 6, 4, 12466],\n",
       " [2000, 1, 7, 5, 12516],\n",
       " [2000, 1, 8, 6, 8934],\n",
       " [2000, 1, 9, 7, 7949],\n",
       " [2000, 1, 10, 1, 11668]]"
      ]
     },
     "execution_count": 35,
     "metadata": {},
     "output_type": "execute_result"
    }
   ],
   "source": [
    "ssa_list = read_csv(\"US_births_2000-2014_SSA.csv\", header_row=True)\n",
    "ssa_list[:10]"
   ]
  },
  {
   "cell_type": "code",
   "execution_count": 44,
   "metadata": {},
   "outputs": [
    {
     "data": {
      "text/plain": [
       "['Date SSA: 2000/1/1, Date CDC: 2000/1/1, SSA: 9083, CDC: 8843, Avg: 8963',\n",
       " 'Date SSA: 2000/1/2, Date CDC: 2000/1/2, SSA: 8006, CDC: 7816, Avg: 7911',\n",
       " 'Date SSA: 2000/1/3, Date CDC: 2000/1/3, SSA: 11363, CDC: 11123, Avg: 11243',\n",
       " 'Date SSA: 2000/1/4, Date CDC: 2000/1/4, SSA: 13032, CDC: 12703, Avg: 12867',\n",
       " 'Date SSA: 2000/1/5, Date CDC: 2000/1/5, SSA: 12558, CDC: 12240, Avg: 12399',\n",
       " 'Date SSA: 2000/1/6, Date CDC: 2000/1/6, SSA: 12466, CDC: 12260, Avg: 12363',\n",
       " 'Date SSA: 2000/1/7, Date CDC: 2000/1/7, SSA: 12516, CDC: 12280, Avg: 12398',\n",
       " 'Date SSA: 2000/1/8, Date CDC: 2000/1/8, SSA: 8934, CDC: 8750, Avg: 8842',\n",
       " 'Date SSA: 2000/1/9, Date CDC: 2000/1/9, SSA: 7949, CDC: 7736, Avg: 7842',\n",
       " 'Date SSA: 2000/1/10, Date CDC: 2000/1/10, SSA: 11668, CDC: 11418, Avg: 11543']"
      ]
     },
     "execution_count": 44,
     "metadata": {},
     "output_type": "execute_result"
    }
   ],
   "source": [
    "combined_list = [] # the combined data\n",
    "did_it_work = []\n",
    "\n",
    "cdc_index = 0 # keep track for the overlap\n",
    "ssa_index = 0 # keep track for after the overlap\n",
    "\n",
    "# add all rows before year 2000 - CDC only\n",
    "for row in cdc_list:\n",
    "    year = row[0]\n",
    "    if year >= 2000:\n",
    "        break\n",
    "    else:\n",
    "        combined_list.append(row.copy())\n",
    "        cdc_index += 1 \n",
    "\n",
    "# add all rows between 2000 and 2003 - average the births\n",
    "for row in ssa_list:\n",
    "    year = row[0]\n",
    "    if year >= 2004:\n",
    "        break\n",
    "    else:\n",
    "        # the respective birth counts\n",
    "        cdc_row = cdc_list[cdc_index]\n",
    "        ssa_births = row[4]\n",
    "        cdc_births = cdc_row[4]\n",
    "        \n",
    "        # average the two in the new row\n",
    "        new_row = row.copy()\n",
    "        new_row[4] = int((ssa_births + cdc_births) / 2)\n",
    "        combined_list.append(new_row)\n",
    "        \n",
    "        # keep a record to ensure it's correct\n",
    "        str_record = \"Date SSA: \" + str(row[0]) + \"/\" + str(row[1]) + \"/\" + str(row[2]) + \", \"\n",
    "        str_record += \"Date CDC: \" + str(cdc_row[0]) + \"/\" + str(cdc_row[1]) + \"/\" + str(cdc_row[2]) + \", \"\n",
    "        str_record += \"SSA: \" + str(ssa_births) + \", \"\n",
    "        str_record += \"CDC: \" + str(cdc_births) + \", \"\n",
    "        str_record += \"Avg: \" + str(new_row[4])\n",
    "        did_it_work.append(str_record)\n",
    "        \n",
    "        # keep track of indices\n",
    "        cdc_index += 1\n",
    "        ssa_index += 1\n",
    "        \n",
    "# add all rows after year 2003 - SSA only\n",
    "for row in ssa_list[ssa_index:]:\n",
    "    combined_list.append(row)\n",
    "    \n",
    "# check if it worked\n",
    "did_it_work[:10]"
   ]
  },
  {
   "cell_type": "markdown",
   "metadata": {},
   "source": [
    "## Check if it worked - examine Dec 1999 & Jan 2000"
   ]
  },
  {
   "cell_type": "code",
   "execution_count": 49,
   "metadata": {},
   "outputs": [
    {
     "name": "stdout",
     "output_type": "stream",
     "text": [
      "CDC from Dec 1999 to Jan 2000, inclusive\n",
      "[1999, 12, 1, 3, 12282]\n",
      "[1999, 12, 2, 4, 11976]\n",
      "[1999, 12, 3, 5, 11591]\n",
      "[1999, 12, 4, 6, 8333]\n",
      "[1999, 12, 5, 7, 7503]\n",
      "[1999, 12, 6, 1, 10956]\n",
      "[1999, 12, 7, 2, 12329]\n",
      "[1999, 12, 8, 3, 11849]\n",
      "[1999, 12, 9, 4, 11728]\n",
      "[1999, 12, 10, 5, 11459]\n",
      "[1999, 12, 11, 6, 8442]\n",
      "[1999, 12, 12, 7, 7528]\n",
      "[1999, 12, 13, 1, 10830]\n",
      "[1999, 12, 14, 2, 12667]\n",
      "[1999, 12, 15, 3, 12623]\n",
      "[1999, 12, 16, 4, 12441]\n",
      "[1999, 12, 17, 5, 12453]\n",
      "[1999, 12, 18, 6, 8979]\n",
      "[1999, 12, 19, 7, 7732]\n",
      "[1999, 12, 20, 1, 12497]\n",
      "[1999, 12, 21, 2, 13508]\n",
      "[1999, 12, 22, 3, 12166]\n",
      "[1999, 12, 23, 4, 10591]\n",
      "[1999, 12, 24, 5, 8046]\n",
      "[1999, 12, 25, 6, 6674]\n",
      "[1999, 12, 26, 7, 7432]\n",
      "[1999, 12, 27, 1, 11579]\n",
      "[1999, 12, 28, 2, 13158]\n",
      "[1999, 12, 29, 3, 12629]\n",
      "[1999, 12, 30, 4, 11935]\n",
      "[1999, 12, 31, 5, 9335]\n",
      "[2000, 1, 1, 6, 8843]\n",
      "[2000, 1, 2, 7, 7816]\n",
      "[2000, 1, 3, 1, 11123]\n",
      "[2000, 1, 4, 2, 12703]\n",
      "[2000, 1, 5, 3, 12240]\n",
      "[2000, 1, 6, 4, 12260]\n",
      "[2000, 1, 7, 5, 12280]\n",
      "[2000, 1, 8, 6, 8750]\n",
      "[2000, 1, 9, 7, 7736]\n",
      "[2000, 1, 10, 1, 11418]\n",
      "[2000, 1, 11, 2, 12323]\n",
      "[2000, 1, 12, 3, 12057]\n",
      "[2000, 1, 13, 4, 11556]\n",
      "[2000, 1, 14, 5, 11924]\n",
      "[2000, 1, 15, 6, 8365]\n",
      "[2000, 1, 16, 7, 7499]\n",
      "[2000, 1, 17, 1, 10601]\n",
      "[2000, 1, 18, 2, 12086]\n",
      "[2000, 1, 19, 3, 12083]\n",
      "[2000, 1, 20, 4, 12188]\n",
      "[2000, 1, 21, 5, 11667]\n",
      "[2000, 1, 22, 6, 8633]\n",
      "[2000, 1, 23, 7, 7712]\n",
      "[2000, 1, 24, 1, 11184]\n",
      "[2000, 1, 25, 2, 12253]\n",
      "[2000, 1, 26, 3, 11879]\n",
      "[2000, 1, 27, 4, 12136]\n",
      "[2000, 1, 28, 5, 11673]\n",
      "[2000, 1, 29, 6, 8635]\n",
      "[2000, 1, 30, 7, 7603]\n",
      "[2000, 1, 31, 1, 10882]\n"
     ]
    }
   ],
   "source": [
    "print(\"CDC from Dec 1999 to Jan 2000, inclusive\")\n",
    "for row in cdc_list:\n",
    "    year = row[0]\n",
    "    month = row[1]\n",
    "    if (year == 1999 and month == 12) or (year == 2000 and month == 1):\n",
    "        print(row)"
   ]
  },
  {
   "cell_type": "code",
   "execution_count": 50,
   "metadata": {},
   "outputs": [
    {
     "name": "stdout",
     "output_type": "stream",
     "text": [
      "Combined from Dec 1999 to Jan 2000, inclusive\n",
      "[1999, 12, 1, 3, 12282]\n",
      "[1999, 12, 2, 4, 11976]\n",
      "[1999, 12, 3, 5, 11591]\n",
      "[1999, 12, 4, 6, 8333]\n",
      "[1999, 12, 5, 7, 7503]\n",
      "[1999, 12, 6, 1, 10956]\n",
      "[1999, 12, 7, 2, 12329]\n",
      "[1999, 12, 8, 3, 11849]\n",
      "[1999, 12, 9, 4, 11728]\n",
      "[1999, 12, 10, 5, 11459]\n",
      "[1999, 12, 11, 6, 8442]\n",
      "[1999, 12, 12, 7, 7528]\n",
      "[1999, 12, 13, 1, 10830]\n",
      "[1999, 12, 14, 2, 12667]\n",
      "[1999, 12, 15, 3, 12623]\n",
      "[1999, 12, 16, 4, 12441]\n",
      "[1999, 12, 17, 5, 12453]\n",
      "[1999, 12, 18, 6, 8979]\n",
      "[1999, 12, 19, 7, 7732]\n",
      "[1999, 12, 20, 1, 12497]\n",
      "[1999, 12, 21, 2, 13508]\n",
      "[1999, 12, 22, 3, 12166]\n",
      "[1999, 12, 23, 4, 10591]\n",
      "[1999, 12, 24, 5, 8046]\n",
      "[1999, 12, 25, 6, 6674]\n",
      "[1999, 12, 26, 7, 7432]\n",
      "[1999, 12, 27, 1, 11579]\n",
      "[1999, 12, 28, 2, 13158]\n",
      "[1999, 12, 29, 3, 12629]\n",
      "[1999, 12, 30, 4, 11935]\n",
      "[1999, 12, 31, 5, 9335]\n",
      "[2000, 1, 1, 6, 8963]\n",
      "[2000, 1, 2, 7, 7911]\n",
      "[2000, 1, 3, 1, 11243]\n",
      "[2000, 1, 4, 2, 12867]\n",
      "[2000, 1, 5, 3, 12399]\n",
      "[2000, 1, 6, 4, 12363]\n",
      "[2000, 1, 7, 5, 12398]\n",
      "[2000, 1, 8, 6, 8842]\n",
      "[2000, 1, 9, 7, 7842]\n",
      "[2000, 1, 10, 1, 11543]\n",
      "[2000, 1, 11, 2, 12467]\n",
      "[2000, 1, 12, 3, 12227]\n",
      "[2000, 1, 13, 4, 11685]\n",
      "[2000, 1, 14, 5, 12052]\n",
      "[2000, 1, 15, 6, 8445]\n",
      "[2000, 1, 16, 7, 7578]\n",
      "[2000, 1, 17, 1, 10712]\n",
      "[2000, 1, 18, 2, 12218]\n",
      "[2000, 1, 19, 3, 12244]\n",
      "[2000, 1, 20, 4, 12347]\n",
      "[2000, 1, 21, 5, 11810]\n",
      "[2000, 1, 22, 6, 8744]\n",
      "[2000, 1, 23, 7, 7784]\n",
      "[2000, 1, 24, 1, 11316]\n",
      "[2000, 1, 25, 2, 12423]\n",
      "[2000, 1, 26, 3, 12011]\n",
      "[2000, 1, 27, 4, 12272]\n",
      "[2000, 1, 28, 5, 11803]\n",
      "[2000, 1, 29, 6, 8720]\n",
      "[2000, 1, 30, 7, 7683]\n",
      "[2000, 1, 31, 1, 11007]\n"
     ]
    }
   ],
   "source": [
    "print(\"Combined from Dec 1999 to Jan 2000, inclusive\")\n",
    "for row in combined_list:\n",
    "    year = row[0]\n",
    "    month = row[1]\n",
    "    if (year == 1999 and month == 12) or (year == 2000 and month == 1):\n",
    "        print(row)"
   ]
  },
  {
   "cell_type": "markdown",
   "metadata": {},
   "source": [
    "**We've demonstrated that 1999 (no overlap) is unchanged, but 2000 (overlap) is changed**"
   ]
  },
  {
   "cell_type": "markdown",
   "metadata": {},
   "source": [
    "## Check if it worked - examine Dec 2003 & Jan 2004"
   ]
  },
  {
   "cell_type": "code",
   "execution_count": 51,
   "metadata": {},
   "outputs": [
    {
     "name": "stdout",
     "output_type": "stream",
     "text": [
      "SSA from Dec 2003 to Jan 2004, inclusive\n",
      "[2003, 12, 1, 1, 12213]\n",
      "[2003, 12, 2, 2, 13454]\n",
      "[2003, 12, 3, 3, 13199]\n",
      "[2003, 12, 4, 4, 12631]\n",
      "[2003, 12, 5, 5, 12180]\n",
      "[2003, 12, 6, 6, 8247]\n",
      "[2003, 12, 7, 7, 7383]\n",
      "[2003, 12, 8, 1, 11708]\n",
      "[2003, 12, 9, 2, 13001]\n",
      "[2003, 12, 10, 3, 12739]\n",
      "[2003, 12, 11, 4, 12502]\n",
      "[2003, 12, 12, 5, 12484]\n",
      "[2003, 12, 13, 6, 8303]\n",
      "[2003, 12, 14, 7, 7462]\n",
      "[2003, 12, 15, 1, 12319]\n",
      "[2003, 12, 16, 2, 13649]\n",
      "[2003, 12, 17, 3, 13454]\n",
      "[2003, 12, 18, 4, 13865]\n",
      "[2003, 12, 19, 5, 13693]\n",
      "[2003, 12, 20, 6, 8953]\n",
      "[2003, 12, 21, 7, 7657]\n",
      "[2003, 12, 22, 1, 13249]\n",
      "[2003, 12, 23, 2, 12939]\n",
      "[2003, 12, 24, 3, 9272]\n",
      "[2003, 12, 25, 4, 6744]\n",
      "[2003, 12, 26, 5, 10431]\n",
      "[2003, 12, 27, 6, 8785]\n",
      "[2003, 12, 28, 7, 7763]\n",
      "[2003, 12, 29, 1, 13125]\n",
      "[2003, 12, 30, 2, 14700]\n",
      "[2003, 12, 31, 3, 12540]\n",
      "[2004, 1, 1, 4, 8205]\n",
      "[2004, 1, 2, 5, 10586]\n",
      "[2004, 1, 3, 6, 8337]\n",
      "[2004, 1, 4, 7, 7359]\n",
      "[2004, 1, 5, 1, 11489]\n",
      "[2004, 1, 6, 2, 12755]\n",
      "[2004, 1, 7, 3, 12716]\n",
      "[2004, 1, 8, 4, 12781]\n",
      "[2004, 1, 9, 5, 12469]\n",
      "[2004, 1, 10, 6, 8337]\n",
      "[2004, 1, 11, 7, 7316]\n",
      "[2004, 1, 12, 1, 11813]\n",
      "[2004, 1, 13, 2, 12639]\n",
      "[2004, 1, 14, 3, 12965]\n",
      "[2004, 1, 15, 4, 12837]\n",
      "[2004, 1, 16, 5, 12424]\n",
      "[2004, 1, 17, 6, 8442]\n",
      "[2004, 1, 18, 7, 7512]\n",
      "[2004, 1, 19, 1, 11152]\n",
      "[2004, 1, 20, 2, 12810]\n",
      "[2004, 1, 21, 3, 12753]\n",
      "[2004, 1, 22, 4, 12675]\n",
      "[2004, 1, 23, 5, 12643]\n",
      "[2004, 1, 24, 6, 8632]\n",
      "[2004, 1, 25, 7, 7556]\n",
      "[2004, 1, 26, 1, 11611]\n",
      "[2004, 1, 27, 2, 12892]\n",
      "[2004, 1, 28, 3, 12373]\n",
      "[2004, 1, 29, 4, 12313]\n",
      "[2004, 1, 30, 5, 12375]\n",
      "[2004, 1, 31, 6, 8310]\n"
     ]
    }
   ],
   "source": [
    "print(\"SSA from Dec 2003 to Jan 2004, inclusive\")\n",
    "for row in ssa_list:\n",
    "    year = row[0]\n",
    "    month = row[1]\n",
    "    if (year == 2003 and month == 12) or (year == 2004 and month == 1):\n",
    "        print(row)"
   ]
  },
  {
   "cell_type": "code",
   "execution_count": 53,
   "metadata": {},
   "outputs": [
    {
     "name": "stdout",
     "output_type": "stream",
     "text": [
      "Combined from Dec 2003 to Jan 2004, inclusive\n",
      "[2003, 12, 1, 1, 12093]\n",
      "[2003, 12, 2, 2, 13288]\n",
      "[2003, 12, 3, 3, 13041]\n",
      "[2003, 12, 4, 4, 12501]\n",
      "[2003, 12, 5, 5, 12040]\n",
      "[2003, 12, 6, 6, 8189]\n",
      "[2003, 12, 7, 7, 7312]\n",
      "[2003, 12, 8, 1, 11602]\n",
      "[2003, 12, 9, 2, 12850]\n",
      "[2003, 12, 10, 3, 12604]\n",
      "[2003, 12, 11, 4, 12372]\n",
      "[2003, 12, 12, 5, 12360]\n",
      "[2003, 12, 13, 6, 8226]\n",
      "[2003, 12, 14, 7, 7399]\n",
      "[2003, 12, 15, 1, 12191]\n",
      "[2003, 12, 16, 2, 13499]\n",
      "[2003, 12, 17, 3, 13280]\n",
      "[2003, 12, 18, 4, 13729]\n",
      "[2003, 12, 19, 5, 13563]\n",
      "[2003, 12, 20, 6, 8874]\n",
      "[2003, 12, 21, 7, 7602]\n",
      "[2003, 12, 22, 1, 13108]\n",
      "[2003, 12, 23, 2, 12768]\n",
      "[2003, 12, 24, 3, 9184]\n",
      "[2003, 12, 25, 4, 6686]\n",
      "[2003, 12, 26, 5, 10324]\n",
      "[2003, 12, 27, 6, 8715]\n",
      "[2003, 12, 28, 7, 7704]\n",
      "[2003, 12, 29, 1, 12974]\n",
      "[2003, 12, 30, 2, 14569]\n",
      "[2003, 12, 31, 3, 12457]\n",
      "[2004, 1, 1, 4, 8205]\n",
      "[2004, 1, 2, 5, 10586]\n",
      "[2004, 1, 3, 6, 8337]\n",
      "[2004, 1, 4, 7, 7359]\n",
      "[2004, 1, 5, 1, 11489]\n",
      "[2004, 1, 6, 2, 12755]\n",
      "[2004, 1, 7, 3, 12716]\n",
      "[2004, 1, 8, 4, 12781]\n",
      "[2004, 1, 9, 5, 12469]\n",
      "[2004, 1, 10, 6, 8337]\n",
      "[2004, 1, 11, 7, 7316]\n",
      "[2004, 1, 12, 1, 11813]\n",
      "[2004, 1, 13, 2, 12639]\n",
      "[2004, 1, 14, 3, 12965]\n",
      "[2004, 1, 15, 4, 12837]\n",
      "[2004, 1, 16, 5, 12424]\n",
      "[2004, 1, 17, 6, 8442]\n",
      "[2004, 1, 18, 7, 7512]\n",
      "[2004, 1, 19, 1, 11152]\n",
      "[2004, 1, 20, 2, 12810]\n",
      "[2004, 1, 21, 3, 12753]\n",
      "[2004, 1, 22, 4, 12675]\n",
      "[2004, 1, 23, 5, 12643]\n",
      "[2004, 1, 24, 6, 8632]\n",
      "[2004, 1, 25, 7, 7556]\n",
      "[2004, 1, 26, 1, 11611]\n",
      "[2004, 1, 27, 2, 12892]\n",
      "[2004, 1, 28, 3, 12373]\n",
      "[2004, 1, 29, 4, 12313]\n",
      "[2004, 1, 30, 5, 12375]\n",
      "[2004, 1, 31, 6, 8310]\n"
     ]
    }
   ],
   "source": [
    "print(\"Combined from Dec 2003 to Jan 2004, inclusive\")\n",
    "for row in combined_list:\n",
    "    year = row[0]\n",
    "    month = row[1]\n",
    "    if (year == 2003 and month == 12) or (year == 2004 and month == 1):\n",
    "        print(row)"
   ]
  },
  {
   "cell_type": "markdown",
   "metadata": {},
   "source": [
    "**We've demonstrated that 2003 (overlap) is changed, but 2004 (no overlap) is unchanged**"
   ]
  }
 ],
 "metadata": {
  "anaconda-cloud": {},
  "kernelspec": {
   "display_name": "Python 3",
   "language": "python",
   "name": "python3"
  },
  "language_info": {
   "codemirror_mode": {
    "name": "ipython",
    "version": 3
   },
   "file_extension": ".py",
   "mimetype": "text/x-python",
   "name": "python",
   "nbconvert_exporter": "python",
   "pygments_lexer": "ipython3",
   "version": "3.6.4"
  }
 },
 "nbformat": 4,
 "nbformat_minor": 1
}
